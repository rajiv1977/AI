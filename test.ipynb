import os
import numpy as np
import cv2
from tensorflow.keras.utils import to_categorical
from sklearn.model_selection import train_test_split

class ImageProcessingSettings:
    """Struct to hold settings for image processing."""
    
    def __init__(self, convert_to_gray=False, resize=False, resize_factor=(1, 1), rotate=False, num_classes=10):
        """
        Initialize settings for image processing.
        
        Args:
            convert_to_gray (bool): Flag to convert images to grayscale.
            resize (bool): Flag to indicate if resizing is needed.
            resize_factor (tuple): Downscale factors for width and height.
            rotate (bool): Flag to indicate if rotation is needed.
            num_classes (int): Number of classes or features.
        """
        self.ConvertToGray = convert_to_gray
        self.Resize = resize
        self.ResizeFactor = resize_factor
        self.Rotate = rotate
        self.numClasses = num_classes

def load_images_from_folder(folder, settings):
    """
    Load images from specified folder based on the provided settings.
    
    Args:
        folder (str): Path to the main dataset folder.
        settings (ImageProcessingSettings): Settings for image processing.
    
    Returns:
        np.array: Array of loaded images.
        np.array: Array of labels corresponding to the images.
    """
    images = []  # List to store loaded images
    labels = []  # List to store corresponding labels
    
    for label in range(settings.numClasses):  # Iterate over class labels
        digit_folder = os.path.join(folder, str(label))  # Construct path for digit folder
        if not os.path.isdir(digit_folder):  # Check if the folder exists
            continue
            
        for filename in os.listdir(digit_folder):  # Iterate through files in the digit folder
            img_path = os.path.join(digit_folder, filename)  # Get the full path of the image
            img = cv2.imread(img_path, cv2.IMREAD_GRAYSCALE if settings.ConvertToGray else cv2.IMREAD_COLOR)  # Load image
            
            if img is not None:  # Check if the image was loaded correctly
                if settings.Resize:  # Check if resizing is needed
                    new_width = img.shape[1] // settings.ResizeFactor[0]  # Calculate new width
                    new_height = img.shape[0] // settings.ResizeFactor[1]  # Calculate new height
                    img = cv2.resize(img, (new_width, new_height))  # Resize image

                images.append(img)  # Add image to the list
                labels.append(label)  # Add corresponding label to the list
    
    return np.array(images), np.array(labels)  # Return as numpy arrays

def build_cnn_model(input_shape, num_classes):
    """
    Build a Convolutional Neural Network (CNN) model using Keras.
    
    Args:
        input_shape (tuple): Shape of the input images.
        num_classes (int): Number of output classes.
    
    Returns:
        keras.Model: Compiled CNN model.
    """
    model = models.Sequential()
    
    # Input layer: (height, width, channels)
    model.add(layers.Conv2D(32, (5, 5), activation='relu', input_shape=input_shape))
    model.add(layers.Dropout(0.5))
    model.add(layers.AveragePooling2D(pool_size=(2, 2)))

    model.add(layers.Conv2D(64, (5, 5), activation='relu'))
    model.add(layers.Dropout(0.5))
    model.add(layers.AveragePooling2D(pool_size=(2, 2)))

    model.add(layers.Flatten())  # Flatten layer
    model.add(layers.Dense(1024, activation='relu'))
    model.add(layers.Dropout(0.5))

    # Output layer
    model.add(layers.Dense(num_classes, activation='softmax'))  # Use softmax for multi-class classification

    return model

def main():
    # Parameters
    height = 40
    width = 40
    epochs = 5000
    batch_size = 32
    learning_rate = 0.01

    # Set the dataset path (update this to your dataset path)
    dataset_path = "E:\\Rajiv\\Coding\\Matlab\\data"  # Example path

    # Create image processing settings
    settings = ImageProcessingSettings(
        convert_to_gray=True,  # Example setting
        resize=True,            # Enable resizing
        resize_factor=(2, 2),   # Downscale images by a factor of 2
        num_classes=10          # Number of classes for digits 0-9
    )

    # Load images and labels
    images, labels = load_images_from_folder(dataset_path, settings)
    images = images.reshape(images.shape[0], height, width, 1)  # Reshape for CNN
    labels = to_categorical(labels, settings.numClasses)  # One-hot encode labels

    # Split into training and validation sets
    X_train, X_val, y_train, y_val = train_test_split(images, labels, test_size=0.2, random_state=42)

    # Build the model
    model = build_cnn_model((height, width, 1), settings.numClasses)
    
    # Compile the model
    model.compile(optimizer='adam', loss='categorical_crossentropy', metrics=['accuracy'])

    # Train the model
    model.fit(X_train, y_train, epochs=epochs, batch_size=batch_size, validation_data=(X_val, y_val))

    # Validate the model
    val_loss, val_accuracy = model.evaluate(X_val, y_val)
    print(f"Validation Loss: {val_loss}, Validation Accuracy: {val_accuracy}")

if __name__ == "__main__":
    main()
